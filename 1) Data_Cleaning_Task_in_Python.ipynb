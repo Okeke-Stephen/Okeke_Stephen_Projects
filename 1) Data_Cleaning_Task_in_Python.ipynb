{
  "nbformat": 4,
  "nbformat_minor": 0,
  "metadata": {
    "colab": {
      "provenance": []
    },
    "kernelspec": {
      "name": "python3",
      "display_name": "Python 3"
    },
    "language_info": {
      "name": "python"
    }
  },
  "cells": [
    {
      "cell_type": "markdown",
      "source": [
        "# **An Intuitive Data Clearning Process with Python**\n",
        "\n",
        "by **Okeke Stephen**"
      ],
      "metadata": {
        "id": "UGoFK3W0s8J1"
      }
    },
    {
      "cell_type": "markdown",
      "source": [
        "Data cleaning is a critical part of the data science pipeline because the insights and results produced with a data is a reflection of the nature and quality of the data used in the work. In this article, I will share the most commonly performed data cleaning tasks by Data Scientists. For a data to be considered clean, it must have these qualities: complete, correct, accurate and relevant. In this article, three important data clearning tasks like missing data,  irrelevant features or inconsistent data and outliers handling will be focussed on."
      ],
      "metadata": {
        "id": "Vc4IWgaFrSMw"
      }
    },
    {
      "cell_type": "code",
      "execution_count": 1,
      "metadata": {
        "id": "NhRyiuaGrF7c"
      },
      "outputs": [],
      "source": [
        "# Importing relevant  libraries\n",
        "import pandas as pd\n",
        "import seaborn as sns\n",
        "import numpy as np\n",
        "import matplotlib.pyplot as plt\n",
        "\n",
        "plt.style.use('fivethirtyeight')\n",
        "%matplotlib inline"
      ]
    },
    {
      "cell_type": "markdown",
      "source": [
        "# Data Loading\n",
        "In this task, I will use the New York Airbnb 2019 data to demonstrate the data cleaning practices."
      ],
      "metadata": {
        "id": "CzWgb7sDxW8q"
      }
    },
    {
      "cell_type": "code",
      "source": [
        "# Load data with panda dataframe\n",
        "airbnb_df = pd.read_csv('AB_NYC_2019.csv')"
      ],
      "metadata": {
        "id": "ibZdQYtfviaV"
      },
      "execution_count": 2,
      "outputs": []
    },
    {
      "cell_type": "code",
      "source": [
        "#Make a copy of the of the original data for future comparative purposes\n",
        "airbnb_copy = airbnb_df.copy()"
      ],
      "metadata": {
        "id": "niJ-Rlhklt36"
      },
      "execution_count": 3,
      "outputs": []
    },
    {
      "cell_type": "markdown",
      "source": [
        "# Perform Basic Exploratory Data Analysis (EDA)"
      ],
      "metadata": {
        "id": "HaYUhFX40mjn"
      }
    },
    {
      "cell_type": "code",
      "source": [
        "# Simple exploratory data analysis\n",
        "airbnb_df.head()"
      ],
      "metadata": {
        "colab": {
          "base_uri": "https://localhost:8080/",
          "height": 461
        },
        "id": "UieOdl0EzUbq",
        "outputId": "6daf11dc-c201-4bbd-c73b-1927c155b146"
      },
      "execution_count": 4,
      "outputs": [
        {
          "output_type": "execute_result",
          "data": {
            "text/plain": [
              "     id                                              name  host_id  \\\n",
              "0  2539                Clean & quiet apt home by the park     2787   \n",
              "1  2595                             Skylit Midtown Castle     2845   \n",
              "2  3647               THE VILLAGE OF HARLEM....NEW YORK !     4632   \n",
              "3  3831                   Cozy Entire Floor of Brownstone     4869   \n",
              "4  5022  Entire Apt: Spacious Studio/Loft by central park     7192   \n",
              "\n",
              "     host_name neighbourhood_group neighbourhood  latitude  longitude  \\\n",
              "0         John            Brooklyn    Kensington  40.64749  -73.97237   \n",
              "1     Jennifer           Manhattan       Midtown  40.75362  -73.98377   \n",
              "2    Elisabeth           Manhattan        Harlem  40.80902  -73.94190   \n",
              "3  LisaRoxanne            Brooklyn  Clinton Hill  40.68514  -73.95976   \n",
              "4        Laura           Manhattan   East Harlem  40.79851  -73.94399   \n",
              "\n",
              "         room_type  price  minimum_nights  number_of_reviews last_review  \\\n",
              "0     Private room    149               1                  9  2018-10-19   \n",
              "1  Entire home/apt    225               1                 45  2019-05-21   \n",
              "2     Private room    150               3                  0         NaN   \n",
              "3  Entire home/apt     89               1                270  2019-07-05   \n",
              "4  Entire home/apt     80              10                  9  2018-11-19   \n",
              "\n",
              "   reviews_per_month  calculated_host_listings_count  availability_365  \n",
              "0               0.21                               6               365  \n",
              "1               0.38                               2               355  \n",
              "2                NaN                               1               365  \n",
              "3               4.64                               1               194  \n",
              "4               0.10                               1                 0  "
            ],
            "text/html": [
              "\n",
              "  <div id=\"df-824a196c-4a7e-4ec2-8cb2-87f959eecd1b\">\n",
              "    <div class=\"colab-df-container\">\n",
              "      <div>\n",
              "<style scoped>\n",
              "    .dataframe tbody tr th:only-of-type {\n",
              "        vertical-align: middle;\n",
              "    }\n",
              "\n",
              "    .dataframe tbody tr th {\n",
              "        vertical-align: top;\n",
              "    }\n",
              "\n",
              "    .dataframe thead th {\n",
              "        text-align: right;\n",
              "    }\n",
              "</style>\n",
              "<table border=\"1\" class=\"dataframe\">\n",
              "  <thead>\n",
              "    <tr style=\"text-align: right;\">\n",
              "      <th></th>\n",
              "      <th>id</th>\n",
              "      <th>name</th>\n",
              "      <th>host_id</th>\n",
              "      <th>host_name</th>\n",
              "      <th>neighbourhood_group</th>\n",
              "      <th>neighbourhood</th>\n",
              "      <th>latitude</th>\n",
              "      <th>longitude</th>\n",
              "      <th>room_type</th>\n",
              "      <th>price</th>\n",
              "      <th>minimum_nights</th>\n",
              "      <th>number_of_reviews</th>\n",
              "      <th>last_review</th>\n",
              "      <th>reviews_per_month</th>\n",
              "      <th>calculated_host_listings_count</th>\n",
              "      <th>availability_365</th>\n",
              "    </tr>\n",
              "  </thead>\n",
              "  <tbody>\n",
              "    <tr>\n",
              "      <th>0</th>\n",
              "      <td>2539</td>\n",
              "      <td>Clean &amp; quiet apt home by the park</td>\n",
              "      <td>2787</td>\n",
              "      <td>John</td>\n",
              "      <td>Brooklyn</td>\n",
              "      <td>Kensington</td>\n",
              "      <td>40.64749</td>\n",
              "      <td>-73.97237</td>\n",
              "      <td>Private room</td>\n",
              "      <td>149</td>\n",
              "      <td>1</td>\n",
              "      <td>9</td>\n",
              "      <td>2018-10-19</td>\n",
              "      <td>0.21</td>\n",
              "      <td>6</td>\n",
              "      <td>365</td>\n",
              "    </tr>\n",
              "    <tr>\n",
              "      <th>1</th>\n",
              "      <td>2595</td>\n",
              "      <td>Skylit Midtown Castle</td>\n",
              "      <td>2845</td>\n",
              "      <td>Jennifer</td>\n",
              "      <td>Manhattan</td>\n",
              "      <td>Midtown</td>\n",
              "      <td>40.75362</td>\n",
              "      <td>-73.98377</td>\n",
              "      <td>Entire home/apt</td>\n",
              "      <td>225</td>\n",
              "      <td>1</td>\n",
              "      <td>45</td>\n",
              "      <td>2019-05-21</td>\n",
              "      <td>0.38</td>\n",
              "      <td>2</td>\n",
              "      <td>355</td>\n",
              "    </tr>\n",
              "    <tr>\n",
              "      <th>2</th>\n",
              "      <td>3647</td>\n",
              "      <td>THE VILLAGE OF HARLEM....NEW YORK !</td>\n",
              "      <td>4632</td>\n",
              "      <td>Elisabeth</td>\n",
              "      <td>Manhattan</td>\n",
              "      <td>Harlem</td>\n",
              "      <td>40.80902</td>\n",
              "      <td>-73.94190</td>\n",
              "      <td>Private room</td>\n",
              "      <td>150</td>\n",
              "      <td>3</td>\n",
              "      <td>0</td>\n",
              "      <td>NaN</td>\n",
              "      <td>NaN</td>\n",
              "      <td>1</td>\n",
              "      <td>365</td>\n",
              "    </tr>\n",
              "    <tr>\n",
              "      <th>3</th>\n",
              "      <td>3831</td>\n",
              "      <td>Cozy Entire Floor of Brownstone</td>\n",
              "      <td>4869</td>\n",
              "      <td>LisaRoxanne</td>\n",
              "      <td>Brooklyn</td>\n",
              "      <td>Clinton Hill</td>\n",
              "      <td>40.68514</td>\n",
              "      <td>-73.95976</td>\n",
              "      <td>Entire home/apt</td>\n",
              "      <td>89</td>\n",
              "      <td>1</td>\n",
              "      <td>270</td>\n",
              "      <td>2019-07-05</td>\n",
              "      <td>4.64</td>\n",
              "      <td>1</td>\n",
              "      <td>194</td>\n",
              "    </tr>\n",
              "    <tr>\n",
              "      <th>4</th>\n",
              "      <td>5022</td>\n",
              "      <td>Entire Apt: Spacious Studio/Loft by central park</td>\n",
              "      <td>7192</td>\n",
              "      <td>Laura</td>\n",
              "      <td>Manhattan</td>\n",
              "      <td>East Harlem</td>\n",
              "      <td>40.79851</td>\n",
              "      <td>-73.94399</td>\n",
              "      <td>Entire home/apt</td>\n",
              "      <td>80</td>\n",
              "      <td>10</td>\n",
              "      <td>9</td>\n",
              "      <td>2018-11-19</td>\n",
              "      <td>0.10</td>\n",
              "      <td>1</td>\n",
              "      <td>0</td>\n",
              "    </tr>\n",
              "  </tbody>\n",
              "</table>\n",
              "</div>\n",
              "      <button class=\"colab-df-convert\" onclick=\"convertToInteractive('df-824a196c-4a7e-4ec2-8cb2-87f959eecd1b')\"\n",
              "              title=\"Convert this dataframe to an interactive table.\"\n",
              "              style=\"display:none;\">\n",
              "        \n",
              "  <svg xmlns=\"http://www.w3.org/2000/svg\" height=\"24px\"viewBox=\"0 0 24 24\"\n",
              "       width=\"24px\">\n",
              "    <path d=\"M0 0h24v24H0V0z\" fill=\"none\"/>\n",
              "    <path d=\"M18.56 5.44l.94 2.06.94-2.06 2.06-.94-2.06-.94-.94-2.06-.94 2.06-2.06.94zm-11 1L8.5 8.5l.94-2.06 2.06-.94-2.06-.94L8.5 2.5l-.94 2.06-2.06.94zm10 10l.94 2.06.94-2.06 2.06-.94-2.06-.94-.94-2.06-.94 2.06-2.06.94z\"/><path d=\"M17.41 7.96l-1.37-1.37c-.4-.4-.92-.59-1.43-.59-.52 0-1.04.2-1.43.59L10.3 9.45l-7.72 7.72c-.78.78-.78 2.05 0 2.83L4 21.41c.39.39.9.59 1.41.59.51 0 1.02-.2 1.41-.59l7.78-7.78 2.81-2.81c.8-.78.8-2.07 0-2.86zM5.41 20L4 18.59l7.72-7.72 1.47 1.35L5.41 20z\"/>\n",
              "  </svg>\n",
              "      </button>\n",
              "      \n",
              "  <style>\n",
              "    .colab-df-container {\n",
              "      display:flex;\n",
              "      flex-wrap:wrap;\n",
              "      gap: 12px;\n",
              "    }\n",
              "\n",
              "    .colab-df-convert {\n",
              "      background-color: #E8F0FE;\n",
              "      border: none;\n",
              "      border-radius: 50%;\n",
              "      cursor: pointer;\n",
              "      display: none;\n",
              "      fill: #1967D2;\n",
              "      height: 32px;\n",
              "      padding: 0 0 0 0;\n",
              "      width: 32px;\n",
              "    }\n",
              "\n",
              "    .colab-df-convert:hover {\n",
              "      background-color: #E2EBFA;\n",
              "      box-shadow: 0px 1px 2px rgba(60, 64, 67, 0.3), 0px 1px 3px 1px rgba(60, 64, 67, 0.15);\n",
              "      fill: #174EA6;\n",
              "    }\n",
              "\n",
              "    [theme=dark] .colab-df-convert {\n",
              "      background-color: #3B4455;\n",
              "      fill: #D2E3FC;\n",
              "    }\n",
              "\n",
              "    [theme=dark] .colab-df-convert:hover {\n",
              "      background-color: #434B5C;\n",
              "      box-shadow: 0px 1px 3px 1px rgba(0, 0, 0, 0.15);\n",
              "      filter: drop-shadow(0px 1px 2px rgba(0, 0, 0, 0.3));\n",
              "      fill: #FFFFFF;\n",
              "    }\n",
              "  </style>\n",
              "\n",
              "      <script>\n",
              "        const buttonEl =\n",
              "          document.querySelector('#df-824a196c-4a7e-4ec2-8cb2-87f959eecd1b button.colab-df-convert');\n",
              "        buttonEl.style.display =\n",
              "          google.colab.kernel.accessAllowed ? 'block' : 'none';\n",
              "\n",
              "        async function convertToInteractive(key) {\n",
              "          const element = document.querySelector('#df-824a196c-4a7e-4ec2-8cb2-87f959eecd1b');\n",
              "          const dataTable =\n",
              "            await google.colab.kernel.invokeFunction('convertToInteractive',\n",
              "                                                     [key], {});\n",
              "          if (!dataTable) return;\n",
              "\n",
              "          const docLinkHtml = 'Like what you see? Visit the ' +\n",
              "            '<a target=\"_blank\" href=https://colab.research.google.com/notebooks/data_table.ipynb>data table notebook</a>'\n",
              "            + ' to learn more about interactive tables.';\n",
              "          element.innerHTML = '';\n",
              "          dataTable['output_type'] = 'display_data';\n",
              "          await google.colab.output.renderOutput(dataTable, element);\n",
              "          const docLink = document.createElement('div');\n",
              "          docLink.innerHTML = docLinkHtml;\n",
              "          element.appendChild(docLink);\n",
              "        }\n",
              "      </script>\n",
              "    </div>\n",
              "  </div>\n",
              "  "
            ]
          },
          "metadata": {},
          "execution_count": 4
        }
      ]
    },
    {
      "cell_type": "code",
      "source": [
        "# Learn about the data\n",
        "airbnb_df.info()"
      ],
      "metadata": {
        "colab": {
          "base_uri": "https://localhost:8080/"
        },
        "id": "3Mp7nll-0QM3",
        "outputId": "d4d36aea-20a8-4483-b545-4b2f579afa73"
      },
      "execution_count": 5,
      "outputs": [
        {
          "output_type": "stream",
          "name": "stdout",
          "text": [
            "<class 'pandas.core.frame.DataFrame'>\n",
            "RangeIndex: 48895 entries, 0 to 48894\n",
            "Data columns (total 16 columns):\n",
            " #   Column                          Non-Null Count  Dtype  \n",
            "---  ------                          --------------  -----  \n",
            " 0   id                              48895 non-null  int64  \n",
            " 1   name                            48879 non-null  object \n",
            " 2   host_id                         48895 non-null  int64  \n",
            " 3   host_name                       48874 non-null  object \n",
            " 4   neighbourhood_group             48895 non-null  object \n",
            " 5   neighbourhood                   48895 non-null  object \n",
            " 6   latitude                        48895 non-null  float64\n",
            " 7   longitude                       48895 non-null  float64\n",
            " 8   room_type                       48895 non-null  object \n",
            " 9   price                           48895 non-null  int64  \n",
            " 10  minimum_nights                  48895 non-null  int64  \n",
            " 11  number_of_reviews               48895 non-null  int64  \n",
            " 12  last_review                     38843 non-null  object \n",
            " 13  reviews_per_month               38843 non-null  float64\n",
            " 14  calculated_host_listings_count  48895 non-null  int64  \n",
            " 15  availability_365                48895 non-null  int64  \n",
            "dtypes: float64(3), int64(7), object(6)\n",
            "memory usage: 6.0+ MB\n"
          ]
        }
      ]
    },
    {
      "cell_type": "code",
      "source": [
        "#Obtaining the statistics of the data\n",
        "airbnb_df.describe().T"
      ],
      "metadata": {
        "colab": {
          "base_uri": "https://localhost:8080/",
          "height": 332
        },
        "id": "GuXJoZkV0ha_",
        "outputId": "f6943fa4-9850-4c87-cd9b-a400cb07d6aa"
      },
      "execution_count": 31,
      "outputs": [
        {
          "output_type": "execute_result",
          "data": {
            "text/plain": [
              "                                  count          mean           std  \\\n",
              "host_id                         48892.0  6.762310e+07  7.861223e+07   \n",
              "lat                             48892.0  4.072895e+01  5.452924e-02   \n",
              "long                            48892.0 -7.395217e+01  4.615727e-02   \n",
              "price                           48892.0  1.527140e+02  2.401561e+02   \n",
              "minimum_nights                  48892.0  7.030312e+00  2.051113e+01   \n",
              "number_of_reviews               48892.0  2.327583e+01  4.455161e+01   \n",
              "reviews_per_month               48892.0  1.090974e+00  1.597310e+00   \n",
              "calculated_host_listings_count  48892.0  7.144359e+00  3.295349e+01   \n",
              "availability_365                48892.0  1.127864e+02  1.316243e+02   \n",
              "\n",
              "                                       min           25%           50%  \\\n",
              "host_id                         2438.00000  7.822844e+06  3.079553e+07   \n",
              "lat                               40.49979  4.069010e+01  4.072308e+01   \n",
              "long                             -74.24442 -7.398307e+01 -7.395568e+01   \n",
              "price                              0.00000  6.900000e+01  1.060000e+02   \n",
              "minimum_nights                     1.00000  1.000000e+00  3.000000e+00   \n",
              "number_of_reviews                  0.00000  1.000000e+00  5.000000e+00   \n",
              "reviews_per_month                  0.00000  4.000000e-02  3.700000e-01   \n",
              "calculated_host_listings_count     1.00000  1.000000e+00  1.000000e+00   \n",
              "availability_365                   0.00000  0.000000e+00  4.500000e+01   \n",
              "\n",
              "                                         75%           max  \n",
              "host_id                         1.074344e+08  2.743213e+08  \n",
              "lat                             4.076311e+01  4.091306e+01  \n",
              "long                           -7.393627e+01 -7.371299e+01  \n",
              "price                           1.750000e+02  1.000000e+04  \n",
              "minimum_nights                  5.000000e+00  1.250000e+03  \n",
              "number_of_reviews               2.400000e+01  6.290000e+02  \n",
              "reviews_per_month               1.580000e+00  5.850000e+01  \n",
              "calculated_host_listings_count  2.000000e+00  3.270000e+02  \n",
              "availability_365                2.270000e+02  3.650000e+02  "
            ],
            "text/html": [
              "\n",
              "  <div id=\"df-a41a5b13-e328-465c-a0e1-7afd4ed79430\">\n",
              "    <div class=\"colab-df-container\">\n",
              "      <div>\n",
              "<style scoped>\n",
              "    .dataframe tbody tr th:only-of-type {\n",
              "        vertical-align: middle;\n",
              "    }\n",
              "\n",
              "    .dataframe tbody tr th {\n",
              "        vertical-align: top;\n",
              "    }\n",
              "\n",
              "    .dataframe thead th {\n",
              "        text-align: right;\n",
              "    }\n",
              "</style>\n",
              "<table border=\"1\" class=\"dataframe\">\n",
              "  <thead>\n",
              "    <tr style=\"text-align: right;\">\n",
              "      <th></th>\n",
              "      <th>count</th>\n",
              "      <th>mean</th>\n",
              "      <th>std</th>\n",
              "      <th>min</th>\n",
              "      <th>25%</th>\n",
              "      <th>50%</th>\n",
              "      <th>75%</th>\n",
              "      <th>max</th>\n",
              "    </tr>\n",
              "  </thead>\n",
              "  <tbody>\n",
              "    <tr>\n",
              "      <th>host_id</th>\n",
              "      <td>48892.0</td>\n",
              "      <td>6.762310e+07</td>\n",
              "      <td>7.861223e+07</td>\n",
              "      <td>2438.00000</td>\n",
              "      <td>7.822844e+06</td>\n",
              "      <td>3.079553e+07</td>\n",
              "      <td>1.074344e+08</td>\n",
              "      <td>2.743213e+08</td>\n",
              "    </tr>\n",
              "    <tr>\n",
              "      <th>lat</th>\n",
              "      <td>48892.0</td>\n",
              "      <td>4.072895e+01</td>\n",
              "      <td>5.452924e-02</td>\n",
              "      <td>40.49979</td>\n",
              "      <td>4.069010e+01</td>\n",
              "      <td>4.072308e+01</td>\n",
              "      <td>4.076311e+01</td>\n",
              "      <td>4.091306e+01</td>\n",
              "    </tr>\n",
              "    <tr>\n",
              "      <th>long</th>\n",
              "      <td>48892.0</td>\n",
              "      <td>-7.395217e+01</td>\n",
              "      <td>4.615727e-02</td>\n",
              "      <td>-74.24442</td>\n",
              "      <td>-7.398307e+01</td>\n",
              "      <td>-7.395568e+01</td>\n",
              "      <td>-7.393627e+01</td>\n",
              "      <td>-7.371299e+01</td>\n",
              "    </tr>\n",
              "    <tr>\n",
              "      <th>price</th>\n",
              "      <td>48892.0</td>\n",
              "      <td>1.527140e+02</td>\n",
              "      <td>2.401561e+02</td>\n",
              "      <td>0.00000</td>\n",
              "      <td>6.900000e+01</td>\n",
              "      <td>1.060000e+02</td>\n",
              "      <td>1.750000e+02</td>\n",
              "      <td>1.000000e+04</td>\n",
              "    </tr>\n",
              "    <tr>\n",
              "      <th>minimum_nights</th>\n",
              "      <td>48892.0</td>\n",
              "      <td>7.030312e+00</td>\n",
              "      <td>2.051113e+01</td>\n",
              "      <td>1.00000</td>\n",
              "      <td>1.000000e+00</td>\n",
              "      <td>3.000000e+00</td>\n",
              "      <td>5.000000e+00</td>\n",
              "      <td>1.250000e+03</td>\n",
              "    </tr>\n",
              "    <tr>\n",
              "      <th>number_of_reviews</th>\n",
              "      <td>48892.0</td>\n",
              "      <td>2.327583e+01</td>\n",
              "      <td>4.455161e+01</td>\n",
              "      <td>0.00000</td>\n",
              "      <td>1.000000e+00</td>\n",
              "      <td>5.000000e+00</td>\n",
              "      <td>2.400000e+01</td>\n",
              "      <td>6.290000e+02</td>\n",
              "    </tr>\n",
              "    <tr>\n",
              "      <th>reviews_per_month</th>\n",
              "      <td>48892.0</td>\n",
              "      <td>1.090974e+00</td>\n",
              "      <td>1.597310e+00</td>\n",
              "      <td>0.00000</td>\n",
              "      <td>4.000000e-02</td>\n",
              "      <td>3.700000e-01</td>\n",
              "      <td>1.580000e+00</td>\n",
              "      <td>5.850000e+01</td>\n",
              "    </tr>\n",
              "    <tr>\n",
              "      <th>calculated_host_listings_count</th>\n",
              "      <td>48892.0</td>\n",
              "      <td>7.144359e+00</td>\n",
              "      <td>3.295349e+01</td>\n",
              "      <td>1.00000</td>\n",
              "      <td>1.000000e+00</td>\n",
              "      <td>1.000000e+00</td>\n",
              "      <td>2.000000e+00</td>\n",
              "      <td>3.270000e+02</td>\n",
              "    </tr>\n",
              "    <tr>\n",
              "      <th>availability_365</th>\n",
              "      <td>48892.0</td>\n",
              "      <td>1.127864e+02</td>\n",
              "      <td>1.316243e+02</td>\n",
              "      <td>0.00000</td>\n",
              "      <td>0.000000e+00</td>\n",
              "      <td>4.500000e+01</td>\n",
              "      <td>2.270000e+02</td>\n",
              "      <td>3.650000e+02</td>\n",
              "    </tr>\n",
              "  </tbody>\n",
              "</table>\n",
              "</div>\n",
              "      <button class=\"colab-df-convert\" onclick=\"convertToInteractive('df-a41a5b13-e328-465c-a0e1-7afd4ed79430')\"\n",
              "              title=\"Convert this dataframe to an interactive table.\"\n",
              "              style=\"display:none;\">\n",
              "        \n",
              "  <svg xmlns=\"http://www.w3.org/2000/svg\" height=\"24px\"viewBox=\"0 0 24 24\"\n",
              "       width=\"24px\">\n",
              "    <path d=\"M0 0h24v24H0V0z\" fill=\"none\"/>\n",
              "    <path d=\"M18.56 5.44l.94 2.06.94-2.06 2.06-.94-2.06-.94-.94-2.06-.94 2.06-2.06.94zm-11 1L8.5 8.5l.94-2.06 2.06-.94-2.06-.94L8.5 2.5l-.94 2.06-2.06.94zm10 10l.94 2.06.94-2.06 2.06-.94-2.06-.94-.94-2.06-.94 2.06-2.06.94z\"/><path d=\"M17.41 7.96l-1.37-1.37c-.4-.4-.92-.59-1.43-.59-.52 0-1.04.2-1.43.59L10.3 9.45l-7.72 7.72c-.78.78-.78 2.05 0 2.83L4 21.41c.39.39.9.59 1.41.59.51 0 1.02-.2 1.41-.59l7.78-7.78 2.81-2.81c.8-.78.8-2.07 0-2.86zM5.41 20L4 18.59l7.72-7.72 1.47 1.35L5.41 20z\"/>\n",
              "  </svg>\n",
              "      </button>\n",
              "      \n",
              "  <style>\n",
              "    .colab-df-container {\n",
              "      display:flex;\n",
              "      flex-wrap:wrap;\n",
              "      gap: 12px;\n",
              "    }\n",
              "\n",
              "    .colab-df-convert {\n",
              "      background-color: #E8F0FE;\n",
              "      border: none;\n",
              "      border-radius: 50%;\n",
              "      cursor: pointer;\n",
              "      display: none;\n",
              "      fill: #1967D2;\n",
              "      height: 32px;\n",
              "      padding: 0 0 0 0;\n",
              "      width: 32px;\n",
              "    }\n",
              "\n",
              "    .colab-df-convert:hover {\n",
              "      background-color: #E2EBFA;\n",
              "      box-shadow: 0px 1px 2px rgba(60, 64, 67, 0.3), 0px 1px 3px 1px rgba(60, 64, 67, 0.15);\n",
              "      fill: #174EA6;\n",
              "    }\n",
              "\n",
              "    [theme=dark] .colab-df-convert {\n",
              "      background-color: #3B4455;\n",
              "      fill: #D2E3FC;\n",
              "    }\n",
              "\n",
              "    [theme=dark] .colab-df-convert:hover {\n",
              "      background-color: #434B5C;\n",
              "      box-shadow: 0px 1px 3px 1px rgba(0, 0, 0, 0.15);\n",
              "      filter: drop-shadow(0px 1px 2px rgba(0, 0, 0, 0.3));\n",
              "      fill: #FFFFFF;\n",
              "    }\n",
              "  </style>\n",
              "\n",
              "      <script>\n",
              "        const buttonEl =\n",
              "          document.querySelector('#df-a41a5b13-e328-465c-a0e1-7afd4ed79430 button.colab-df-convert');\n",
              "        buttonEl.style.display =\n",
              "          google.colab.kernel.accessAllowed ? 'block' : 'none';\n",
              "\n",
              "        async function convertToInteractive(key) {\n",
              "          const element = document.querySelector('#df-a41a5b13-e328-465c-a0e1-7afd4ed79430');\n",
              "          const dataTable =\n",
              "            await google.colab.kernel.invokeFunction('convertToInteractive',\n",
              "                                                     [key], {});\n",
              "          if (!dataTable) return;\n",
              "\n",
              "          const docLinkHtml = 'Like what you see? Visit the ' +\n",
              "            '<a target=\"_blank\" href=https://colab.research.google.com/notebooks/data_table.ipynb>data table notebook</a>'\n",
              "            + ' to learn more about interactive tables.';\n",
              "          element.innerHTML = '';\n",
              "          dataTable['output_type'] = 'display_data';\n",
              "          await google.colab.output.renderOutput(dataTable, element);\n",
              "          const docLink = document.createElement('div');\n",
              "          docLink.innerHTML = docLinkHtml;\n",
              "          element.appendChild(docLink);\n",
              "        }\n",
              "      </script>\n",
              "    </div>\n",
              "  </div>\n",
              "  "
            ]
          },
          "metadata": {},
          "execution_count": 31
        }
      ]
    },
    {
      "cell_type": "code",
      "source": [
        "# Splitting the data features into numerical and categorical classes for future use\n",
        "airbnb_cat_df = airbnb_df.select_dtypes(include=['object'])\n",
        "airbnb_num_df = airbnb_df.select_dtypes(exclude=['object'])\n",
        "\n",
        "def printColumnTypes(non_numeric_df, numeric_df):\n",
        "    '''separates non-numeric and numeric columns'''\n",
        "    print(\"Non-Numeric columns:\")\n",
        "    for col in non_numeric_df:\n",
        "        print(f\"{col}\")\n",
        "    print(\"\")\n",
        "    print(\"Numeric columns:\")\n",
        "    for col in numeric_df:\n",
        "        print(f\"{col}\")\n",
        "        \n",
        "printColumnTypes(airbnb_cat_df, airbnb_num_df)"
      ],
      "metadata": {
        "colab": {
          "base_uri": "https://localhost:8080/"
        },
        "id": "RgHzmzC403iX",
        "outputId": "93b332e6-5f73-4634-e43d-c6fbdf0f82d8"
      },
      "execution_count": 7,
      "outputs": [
        {
          "output_type": "stream",
          "name": "stdout",
          "text": [
            "Non-Numeric columns:\n",
            "name\n",
            "host_name\n",
            "neighbourhood_group\n",
            "neighbourhood\n",
            "room_type\n",
            "last_review\n",
            "\n",
            "Numeric columns:\n",
            "id\n",
            "host_id\n",
            "latitude\n",
            "longitude\n",
            "price\n",
            "minimum_nights\n",
            "number_of_reviews\n",
            "reviews_per_month\n",
            "calculated_host_listings_count\n",
            "availability_365\n"
          ]
        }
      ]
    },
    {
      "cell_type": "markdown",
      "source": [
        "# Handling Missing Data\n",
        "Missing data is prevalent in different types of data and it is quite problematic dealing with missing values. Many machine learning algorithms cannot process missing values and thus need to be dealt with before passing the data to the adopted algorithm. \n",
        "\n",
        "Two typical methods used in handling missing values are:\n",
        "-- dropping the rows or columns(critical information that maybe useful in prediction could be lost)\n",
        "-- values imputation based on observations i.e. the mean or median( bias could be introduced into the data but it is better that removing useful values)\n",
        "\n",
        "Proper dealing with missing values depend on context of the task at hand and it is recommended to try different approches and adopted the best effective method.  "
      ],
      "metadata": {
        "id": "N-Xdfj_25jWj"
      }
    },
    {
      "cell_type": "code",
      "source": [
        "#The df.isnull().sum() function visualize columns with missing values (print columns with missing values and rate)\n",
        "def missing_cols(df):\n",
        "    '''prints out columns with its amount of missing values'''\n",
        "    total = 0\n",
        "    for col in df.columns:\n",
        "        missing_vals = df[col].isnull().sum()\n",
        "        total += missing_vals\n",
        "        if missing_vals != 0:\n",
        "            print(f\"{col} => {df[col].isnull().sum()}\")\n",
        "    \n",
        "    if total == 0:\n",
        "        print(\"no missing values left\")\n",
        "            \n",
        "missing_cols(airbnb_df)"
      ],
      "metadata": {
        "colab": {
          "base_uri": "https://localhost:8080/"
        },
        "id": "JxEtG1_w2PpF",
        "outputId": "73ef8bd6-6912-4c88-fd1a-862e0a356c07"
      },
      "execution_count": 8,
      "outputs": [
        {
          "output_type": "stream",
          "name": "stdout",
          "text": [
            "name => 16\n",
            "host_name => 21\n",
            "last_review => 10052\n",
            "reviews_per_month => 10052\n"
          ]
        }
      ]
    },
    {
      "cell_type": "code",
      "source": [
        "#The mean() is used to know the percentage of missing values in each column (helpful to decide whether to drop a column or not)\n",
        "def perc_missing(df):\n",
        "    '''prints out columns with missing values with its %'''\n",
        "    for col in df.columns:\n",
        "        pct = df[col].isna().mean() * 100\n",
        "        if (pct != 0):\n",
        "            print('{} => {}%'.format(col, round(pct, 2)))\n",
        "    \n",
        "perc_missing(airbnb_df)"
      ],
      "metadata": {
        "colab": {
          "base_uri": "https://localhost:8080/"
        },
        "id": "ABe2eII42P4F",
        "outputId": "49c3334d-2f4b-4e50-813f-12adb81d3c40"
      },
      "execution_count": 9,
      "outputs": [
        {
          "output_type": "stream",
          "name": "stdout",
          "text": [
            "name => 0.03%\n",
            "host_name => 0.04%\n",
            "last_review => 20.56%\n",
            "reviews_per_month => 20.56%\n"
          ]
        }
      ]
    },
    {
      "cell_type": "code",
      "source": [
        "#heatmap() helps to visualize missing values (helpful to know the point in which the missing values exist)"
      ],
      "metadata": {
        "id": "3C7JQhB_8srh"
      },
      "execution_count": 10,
      "outputs": []
    },
    {
      "cell_type": "code",
      "source": [
        "plt.figure(figsize=(10, 6))\n",
        "sns.heatmap(airbnb_df.isnull(), yticklabels=False, cmap='viridis', cbar=False)"
      ],
      "metadata": {
        "colab": {
          "base_uri": "https://localhost:8080/",
          "height": 530
        },
        "id": "J_yGEGIX8sw8",
        "outputId": "7f50e38b-d9d6-4256-9d31-f09e9f92de2b"
      },
      "execution_count": 11,
      "outputs": [
        {
          "output_type": "execute_result",
          "data": {
            "text/plain": [
              "<matplotlib.axes._subplots.AxesSubplot at 0x7f153ddb2f90>"
            ]
          },
          "metadata": {},
          "execution_count": 11
        },
        {
          "output_type": "display_data",
          "data": {
            "text/plain": [
              "<Figure size 720x432 with 1 Axes>"
            ],
            "image/png": "[encoded data removed]"
          },
          "metadata": {
            "needs_background": "light"
          }
        }
      ]
    },
    {
      "cell_type": "code",
      "source": [
        "#Drop irrelevant columns using drop() function\n",
        "#Axis = 1 because we want to drop columns, Axis = 0 when we want to dro rows, inplace = True because transformation is done directly on the dataset\n",
        "columnsToDrop = ['id','host_name','last_review']\n",
        "airbnb_df.drop(columnsToDrop, axis=1, inplace=True)\n",
        "missing_cols(airbnb_df)"
      ],
      "metadata": {
        "colab": {
          "base_uri": "https://localhost:8080/"
        },
        "id": "4y4pWuMC8s1A",
        "outputId": "ab68cb8e-c369-4bef-d304-a236d3e74cbe"
      },
      "execution_count": 12,
      "outputs": [
        {
          "output_type": "stream",
          "name": "stdout",
          "text": [
            "name => 16\n",
            "reviews_per_month => 10052\n"
          ]
        }
      ]
    },
    {
      "cell_type": "code",
      "source": [
        "#Dropping rows using dropna()\n",
        "# remove rows with missing values in price\n",
        "#airbnb_df['price'].dropna(inplace=True)"
      ],
      "metadata": {
        "id": "5yfdy7t8c0GD"
      },
      "execution_count": 13,
      "outputs": []
    },
    {
      "cell_type": "markdown",
      "source": [
        "# Imputing Missing Data\n",
        "There are three main ways of imputing missing values:\n",
        "1. fillna() -- filling null values relying on given values (mean, median, mode, or specified value)\n",
        "2. bfill() / ffill() -- stands for backward fill and forward fill (filling missing values relying on the value after or before the column.)\n",
        "3.SimpleImputer() -- Sk-learn’s built-in function that imputes missing values (usually used with a pipeline when building ML models)"
      ],
      "metadata": {
        "id": "H8Qo1jWIdcf4"
      }
    },
    {
      "cell_type": "code",
      "source": [
        "# Applying the techniques above on the price column\n",
        "# imputing price with mean\n",
        "price_mean_value = round(airbnb_df['price'].mean(), 2)\n",
        "airbnb_df['price'].fillna(price_mean_value, inplace=True)\n",
        "\n",
        "# imputing price with median\n",
        "price_median_value = round(airbnb_df['price'].median(), 2)\n",
        "airbnb_df['price'].fillna(price_median_value, inplace=True)\n",
        "\n",
        "# imputing with bfill or ffill\n",
        "airbnb_df['price'].bfill(inplace=True)\n",
        "airbnb_df['price'].ffill(inplace=True)\n",
        "\n",
        "# imputing with SimpleImputor from the sklearn library\n",
        "from sklearn.impute import SimpleImputer\n",
        "# define the imputer\n",
        "imr = SimpleImputer(missing_values=np.nan, strategy='mean') # or median\n",
        "\n",
        "airbnb_df[['price']] = imr.fit_transform(airbnb_df[['price']])\n",
        "\n",
        "# use strategy = 'most_frequent' for categorical data"
      ],
      "metadata": {
        "id": "800L9o85dVVQ"
      },
      "execution_count": 14,
      "outputs": []
    },
    {
      "cell_type": "markdown",
      "source": [
        "# Replacing Data\n",
        "The fillna() function can also be used to replace values. Here, the value to be replaced is first defined in the key and then substitute in the value."
      ],
      "metadata": {
        "id": "B1mn2bDif_-g"
      }
    },
    {
      "cell_type": "code",
      "source": [
        "#Examples to replace values in the reviews_per_month and name columns \n",
        "# replace null values in reviews_per_month with 0 \n",
        "airbnb_df.fillna({'reviews_per_month':0}, inplace=True)\n",
        "missing_cols(airbnb_df)"
      ],
      "metadata": {
        "colab": {
          "base_uri": "https://localhost:8080/"
        },
        "id": "0RB002dvdVZ5",
        "outputId": "01fb241c-8d22-46dd-d85b-17d22888cb78"
      },
      "execution_count": 15,
      "outputs": [
        {
          "output_type": "stream",
          "name": "stdout",
          "text": [
            "name => 16\n"
          ]
        }
      ]
    },
    {
      "cell_type": "code",
      "source": [
        "#Replace null values in name column with 'None'\n",
        "airbnb_df.fillna({'name':'None'}, inplace=True)\n",
        "\n",
        "missing_cols(airbnb_df)"
      ],
      "metadata": {
        "colab": {
          "base_uri": "https://localhost:8080/"
        },
        "id": "sxOrQJFLdVcp",
        "outputId": "4cccda91-b521-4262-cb5b-f840790d8429"
      },
      "execution_count": 16,
      "outputs": [
        {
          "output_type": "stream",
          "name": "stdout",
          "text": [
            "no missing values left\n"
          ]
        }
      ]
    },
    {
      "cell_type": "markdown",
      "source": [
        "# Handling Inconsistent data or Irrelevant features\n",
        "Wrong data type,\n",
        "spelling errors in data, \n",
        "irrelevant column names, etc.,\n",
        "constitute inconsistent data \n",
        " \n"
      ],
      "metadata": {
        "id": "VWw-1SfshgKm"
      }
    },
    {
      "cell_type": "markdown",
      "source": [
        "# Remove rows based on regex\n",
        "If we want to eliminate rows that have certain words e.g, taking noisy/Noisy as a target, the str.contains() function can be deployed to find the indexes that contain such rows. And then use the drop() function with setting axis to index, we can supply the indexes I have and drop those rows."
      ],
      "metadata": {
        "id": "L3riOeWqj3Il"
      }
    },
    {
      "cell_type": "code",
      "source": [
        "# example: remove rows that contain the target word\n",
        "target = '[Nn]oisy'\n",
        "\n",
        "noisy_airbnb = airbnb_df[airbnb_df['name'].str.contains(target, regex=True)]\n",
        "\n",
        "# show rows that contains the word noisy\n",
        "print(noisy_airbnb['name'])\n",
        "\n",
        "# get the index that contains the word noisy\n",
        "index_to_drop = noisy_airbnb['name'].index\n",
        "\n",
        "print(index_to_drop)"
      ],
      "metadata": {
        "colab": {
          "base_uri": "https://localhost:8080/"
        },
        "id": "xuU-WHPfhUgy",
        "outputId": "87fc0f15-bdd6-4433-8a94-2b26e7492202"
      },
      "execution_count": 17,
      "outputs": [
        {
          "output_type": "stream",
          "name": "stdout",
          "text": [
            "19733                     Noisy room next to Prospect Park\n",
            "23857               Small Homey Studio in a Big Noisy City\n",
            "35343    My wife is not used to the noisy environment. How\n",
            "Name: name, dtype: object\n",
            "Int64Index([19733, 23857, 35343], dtype='int64')\n"
          ]
        }
      ]
    },
    {
      "cell_type": "code",
      "source": [
        "# Now let's drop rows based on the index\n",
        "airbnb_df.drop(index_to_drop, axis='index', inplace=True)\n",
        "\n",
        "print(len(airbnb_copy))\n",
        "print(len(airbnb_df))"
      ],
      "metadata": {
        "colab": {
          "base_uri": "https://localhost:8080/"
        },
        "id": "8pu8McY0hUll",
        "outputId": "64dc8622-9ea3-4c8c-e5d7-d20a97ea36d3"
      },
      "execution_count": 18,
      "outputs": [
        {
          "output_type": "stream",
          "name": "stdout",
          "text": [
            "48895\n",
            "48892\n"
          ]
        }
      ]
    },
    {
      "cell_type": "markdown",
      "source": [
        "# Spelling and capitalization errors handling in categorical data"
      ],
      "metadata": {
        "id": "JiF2pIu9p6fH"
      }
    },
    {
      "cell_type": "code",
      "source": [
        "# Using the neighbourhood_group column as an example:\n",
        "airbnb_df['neighbourhood_group'].value_counts()"
      ],
      "metadata": {
        "colab": {
          "base_uri": "https://localhost:8080/"
        },
        "id": "IE485U04hUp4",
        "outputId": "593f0ccc-3601-40f1-d0af-f6c2ff6379ed"
      },
      "execution_count": 19,
      "outputs": [
        {
          "output_type": "execute_result",
          "data": {
            "text/plain": [
              "Manhattan        21659\n",
              "Brooklyn         20103\n",
              "Queens            5666\n",
              "Bronx             1091\n",
              "Staten Island      373\n",
              "Name: neighbourhood_group, dtype: int64"
            ]
          },
          "metadata": {},
          "execution_count": 19
        }
      ]
    },
    {
      "cell_type": "markdown",
      "source": [
        "Since the different types of neighborhoods are well categorized, we can create a scenario where some of the data had capitalization or spelling issues by sampling 2 rows from the data, and replacing them with the wrong spelling. See the output below on how the data is messed up. \n",
        "\n",
        "The issue can be fixed by using the replace() function provided in pandas. We first provide the values that are wrong, then followed by the right ones. Notice the values have to match each other in the list, i.e. “manhatann” → “Manhattan”."
      ],
      "metadata": {
        "id": "CBi7A52frEsW"
      }
    },
    {
      "cell_type": "code",
      "source": [
        "random_index = airbnb_df.sample(2, random_state = 10).index\n",
        "\n",
        "# airbnb['neighbourhood_group'].loc[random_index]\n",
        "## we randomly selected Manhattan and Brooklyn\n",
        "\n",
        "wrong_spelling = ['manhatann', 'brookln']\n",
        "\n",
        "# replace them with the wrong spelling\n",
        "airbnb_df.loc[random_index,'neighbourhood_group'] = wrong_spelling\n",
        "airbnb_df['neighbourhood_group'].value_counts()"
      ],
      "metadata": {
        "colab": {
          "base_uri": "https://localhost:8080/"
        },
        "id": "0NlrVeF9hUx9",
        "outputId": "c3a7405a-f496-4135-fa0f-9cb526bb018c"
      },
      "execution_count": 20,
      "outputs": [
        {
          "output_type": "execute_result",
          "data": {
            "text/plain": [
              "Manhattan        21659\n",
              "Brooklyn         20101\n",
              "Queens            5666\n",
              "Bronx             1091\n",
              "Staten Island      373\n",
              "brookln              1\n",
              "manhatann            1\n",
              "Name: neighbourhood_group, dtype: int64"
            ]
          },
          "metadata": {},
          "execution_count": 20
        }
      ]
    },
    {
      "cell_type": "code",
      "source": [
        "# Now, let's resolve the problem with replace() function\n",
        "airbnb_df['neighbourhood_group'].replace(['manhatann', 'brookln'],\n",
        "                             ['Manhattan', 'Brooklyn'], inplace=True)\n",
        "airbnb_df['neighbourhood_group'].value_counts()"
      ],
      "metadata": {
        "colab": {
          "base_uri": "https://localhost:8080/"
        },
        "id": "F_4Ij2GLs7oo",
        "outputId": "aa2ae615-b56b-4f28-d3c5-7c0b26a4c972"
      },
      "execution_count": 21,
      "outputs": [
        {
          "output_type": "execute_result",
          "data": {
            "text/plain": [
              "Manhattan        21660\n",
              "Brooklyn         20102\n",
              "Queens            5666\n",
              "Bronx             1091\n",
              "Staten Island      373\n",
              "Name: neighbourhood_group, dtype: int64"
            ]
          },
          "metadata": {},
          "execution_count": 21
        }
      ]
    },
    {
      "cell_type": "markdown",
      "source": [
        "# Renaming columns\n",
        "Instances where columns maybe needed to be replaced could arise. This could be accomplished using a dictionary, setting the key as the original column name, and the value as the new column name.\n",
        "\n",
        "Then using the rename() function to supply dictionary for the columns names change."
      ],
      "metadata": {
        "id": "1Slclh-9tkga"
      }
    },
    {
      "cell_type": "code",
      "source": [
        "new_names = {'name':'listing_name', 'latitude':'lat', 'longitude':'long'}\n",
        "\n",
        "airbnb_df.rename(columns=new_names, inplace=True)\n",
        "airbnb_df.head()"
      ],
      "metadata": {
        "colab": {
          "base_uri": "https://localhost:8080/",
          "height": 461
        },
        "id": "sVkrisgFtYWb",
        "outputId": "aa8c1725-5912-464a-f5e4-8b6b80cbcc4a"
      },
      "execution_count": 22,
      "outputs": [
        {
          "output_type": "execute_result",
          "data": {
            "text/plain": [
              "                                       listing_name  host_id  \\\n",
              "0                Clean & quiet apt home by the park     2787   \n",
              "1                             Skylit Midtown Castle     2845   \n",
              "2               THE VILLAGE OF HARLEM....NEW YORK !     4632   \n",
              "3                   Cozy Entire Floor of Brownstone     4869   \n",
              "4  Entire Apt: Spacious Studio/Loft by central park     7192   \n",
              "\n",
              "  neighbourhood_group neighbourhood       lat      long        room_type  \\\n",
              "0            Brooklyn    Kensington  40.64749 -73.97237     Private room   \n",
              "1           Manhattan       Midtown  40.75362 -73.98377  Entire home/apt   \n",
              "2           Manhattan        Harlem  40.80902 -73.94190     Private room   \n",
              "3            Brooklyn  Clinton Hill  40.68514 -73.95976  Entire home/apt   \n",
              "4           Manhattan   East Harlem  40.79851 -73.94399  Entire home/apt   \n",
              "\n",
              "   price  minimum_nights  number_of_reviews  reviews_per_month  \\\n",
              "0  149.0               1                  9               0.21   \n",
              "1  225.0               1                 45               0.38   \n",
              "2  150.0               3                  0               0.00   \n",
              "3   89.0               1                270               4.64   \n",
              "4   80.0              10                  9               0.10   \n",
              "\n",
              "   calculated_host_listings_count  availability_365  \n",
              "0                               6               365  \n",
              "1                               2               355  \n",
              "2                               1               365  \n",
              "3                               1               194  \n",
              "4                               1                 0  "
            ],
            "text/html": [
              "\n",
              "  <div id=\"df-b9e508eb-74a6-47df-928e-d9a54773675a\">\n",
              "    <div class=\"colab-df-container\">\n",
              "      <div>\n",
              "<style scoped>\n",
              "    .dataframe tbody tr th:only-of-type {\n",
              "        vertical-align: middle;\n",
              "    }\n",
              "\n",
              "    .dataframe tbody tr th {\n",
              "        vertical-align: top;\n",
              "    }\n",
              "\n",
              "    .dataframe thead th {\n",
              "        text-align: right;\n",
              "    }\n",
              "</style>\n",
              "<table border=\"1\" class=\"dataframe\">\n",
              "  <thead>\n",
              "    <tr style=\"text-align: right;\">\n",
              "      <th></th>\n",
              "      <th>listing_name</th>\n",
              "      <th>host_id</th>\n",
              "      <th>neighbourhood_group</th>\n",
              "      <th>neighbourhood</th>\n",
              "      <th>lat</th>\n",
              "      <th>long</th>\n",
              "      <th>room_type</th>\n",
              "      <th>price</th>\n",
              "      <th>minimum_nights</th>\n",
              "      <th>number_of_reviews</th>\n",
              "      <th>reviews_per_month</th>\n",
              "      <th>calculated_host_listings_count</th>\n",
              "      <th>availability_365</th>\n",
              "    </tr>\n",
              "  </thead>\n",
              "  <tbody>\n",
              "    <tr>\n",
              "      <th>0</th>\n",
              "      <td>Clean &amp; quiet apt home by the park</td>\n",
              "      <td>2787</td>\n",
              "      <td>Brooklyn</td>\n",
              "      <td>Kensington</td>\n",
              "      <td>40.64749</td>\n",
              "      <td>-73.97237</td>\n",
              "      <td>Private room</td>\n",
              "      <td>149.0</td>\n",
              "      <td>1</td>\n",
              "      <td>9</td>\n",
              "      <td>0.21</td>\n",
              "      <td>6</td>\n",
              "      <td>365</td>\n",
              "    </tr>\n",
              "    <tr>\n",
              "      <th>1</th>\n",
              "      <td>Skylit Midtown Castle</td>\n",
              "      <td>2845</td>\n",
              "      <td>Manhattan</td>\n",
              "      <td>Midtown</td>\n",
              "      <td>40.75362</td>\n",
              "      <td>-73.98377</td>\n",
              "      <td>Entire home/apt</td>\n",
              "      <td>225.0</td>\n",
              "      <td>1</td>\n",
              "      <td>45</td>\n",
              "      <td>0.38</td>\n",
              "      <td>2</td>\n",
              "      <td>355</td>\n",
              "    </tr>\n",
              "    <tr>\n",
              "      <th>2</th>\n",
              "      <td>THE VILLAGE OF HARLEM....NEW YORK !</td>\n",
              "      <td>4632</td>\n",
              "      <td>Manhattan</td>\n",
              "      <td>Harlem</td>\n",
              "      <td>40.80902</td>\n",
              "      <td>-73.94190</td>\n",
              "      <td>Private room</td>\n",
              "      <td>150.0</td>\n",
              "      <td>3</td>\n",
              "      <td>0</td>\n",
              "      <td>0.00</td>\n",
              "      <td>1</td>\n",
              "      <td>365</td>\n",
              "    </tr>\n",
              "    <tr>\n",
              "      <th>3</th>\n",
              "      <td>Cozy Entire Floor of Brownstone</td>\n",
              "      <td>4869</td>\n",
              "      <td>Brooklyn</td>\n",
              "      <td>Clinton Hill</td>\n",
              "      <td>40.68514</td>\n",
              "      <td>-73.95976</td>\n",
              "      <td>Entire home/apt</td>\n",
              "      <td>89.0</td>\n",
              "      <td>1</td>\n",
              "      <td>270</td>\n",
              "      <td>4.64</td>\n",
              "      <td>1</td>\n",
              "      <td>194</td>\n",
              "    </tr>\n",
              "    <tr>\n",
              "      <th>4</th>\n",
              "      <td>Entire Apt: Spacious Studio/Loft by central park</td>\n",
              "      <td>7192</td>\n",
              "      <td>Manhattan</td>\n",
              "      <td>East Harlem</td>\n",
              "      <td>40.79851</td>\n",
              "      <td>-73.94399</td>\n",
              "      <td>Entire home/apt</td>\n",
              "      <td>80.0</td>\n",
              "      <td>10</td>\n",
              "      <td>9</td>\n",
              "      <td>0.10</td>\n",
              "      <td>1</td>\n",
              "      <td>0</td>\n",
              "    </tr>\n",
              "  </tbody>\n",
              "</table>\n",
              "</div>\n",
              "      <button class=\"colab-df-convert\" onclick=\"convertToInteractive('df-b9e508eb-74a6-47df-928e-d9a54773675a')\"\n",
              "              title=\"Convert this dataframe to an interactive table.\"\n",
              "              style=\"display:none;\">\n",
              "        \n",
              "  <svg xmlns=\"http://www.w3.org/2000/svg\" height=\"24px\"viewBox=\"0 0 24 24\"\n",
              "       width=\"24px\">\n",
              "    <path d=\"M0 0h24v24H0V0z\" fill=\"none\"/>\n",
              "    <path d=\"M18.56 5.44l.94 2.06.94-2.06 2.06-.94-2.06-.94-.94-2.06-.94 2.06-2.06.94zm-11 1L8.5 8.5l.94-2.06 2.06-.94-2.06-.94L8.5 2.5l-.94 2.06-2.06.94zm10 10l.94 2.06.94-2.06 2.06-.94-2.06-.94-.94-2.06-.94 2.06-2.06.94z\"/><path d=\"M17.41 7.96l-1.37-1.37c-.4-.4-.92-.59-1.43-.59-.52 0-1.04.2-1.43.59L10.3 9.45l-7.72 7.72c-.78.78-.78 2.05 0 2.83L4 21.41c.39.39.9.59 1.41.59.51 0 1.02-.2 1.41-.59l7.78-7.78 2.81-2.81c.8-.78.8-2.07 0-2.86zM5.41 20L4 18.59l7.72-7.72 1.47 1.35L5.41 20z\"/>\n",
              "  </svg>\n",
              "      </button>\n",
              "      \n",
              "  <style>\n",
              "    .colab-df-container {\n",
              "      display:flex;\n",
              "      flex-wrap:wrap;\n",
              "      gap: 12px;\n",
              "    }\n",
              "\n",
              "    .colab-df-convert {\n",
              "      background-color: #E8F0FE;\n",
              "      border: none;\n",
              "      border-radius: 50%;\n",
              "      cursor: pointer;\n",
              "      display: none;\n",
              "      fill: #1967D2;\n",
              "      height: 32px;\n",
              "      padding: 0 0 0 0;\n",
              "      width: 32px;\n",
              "    }\n",
              "\n",
              "    .colab-df-convert:hover {\n",
              "      background-color: #E2EBFA;\n",
              "      box-shadow: 0px 1px 2px rgba(60, 64, 67, 0.3), 0px 1px 3px 1px rgba(60, 64, 67, 0.15);\n",
              "      fill: #174EA6;\n",
              "    }\n",
              "\n",
              "    [theme=dark] .colab-df-convert {\n",
              "      background-color: #3B4455;\n",
              "      fill: #D2E3FC;\n",
              "    }\n",
              "\n",
              "    [theme=dark] .colab-df-convert:hover {\n",
              "      background-color: #434B5C;\n",
              "      box-shadow: 0px 1px 3px 1px rgba(0, 0, 0, 0.15);\n",
              "      filter: drop-shadow(0px 1px 2px rgba(0, 0, 0, 0.3));\n",
              "      fill: #FFFFFF;\n",
              "    }\n",
              "  </style>\n",
              "\n",
              "      <script>\n",
              "        const buttonEl =\n",
              "          document.querySelector('#df-b9e508eb-74a6-47df-928e-d9a54773675a button.colab-df-convert');\n",
              "        buttonEl.style.display =\n",
              "          google.colab.kernel.accessAllowed ? 'block' : 'none';\n",
              "\n",
              "        async function convertToInteractive(key) {\n",
              "          const element = document.querySelector('#df-b9e508eb-74a6-47df-928e-d9a54773675a');\n",
              "          const dataTable =\n",
              "            await google.colab.kernel.invokeFunction('convertToInteractive',\n",
              "                                                     [key], {});\n",
              "          if (!dataTable) return;\n",
              "\n",
              "          const docLinkHtml = 'Like what you see? Visit the ' +\n",
              "            '<a target=\"_blank\" href=https://colab.research.google.com/notebooks/data_table.ipynb>data table notebook</a>'\n",
              "            + ' to learn more about interactive tables.';\n",
              "          element.innerHTML = '';\n",
              "          dataTable['output_type'] = 'display_data';\n",
              "          await google.colab.output.renderOutput(dataTable, element);\n",
              "          const docLink = document.createElement('div');\n",
              "          docLink.innerHTML = docLinkHtml;\n",
              "          element.appendChild(docLink);\n",
              "        }\n",
              "      </script>\n",
              "    </div>\n",
              "  </div>\n",
              "  "
            ]
          },
          "metadata": {},
          "execution_count": 22
        }
      ]
    },
    {
      "cell_type": "markdown",
      "source": [
        "#Handling DateTime Objects\n",
        "Datetime objects that appear in string format can be convert into DateTime format using the pd.to_datetime() function. "
      ],
      "metadata": {
        "id": "WcudcAxlosoC"
      }
    },
    {
      "cell_type": "code",
      "source": [
        "#Let's convert the last_review column to DateTime format\n",
        "airbnb_copy['last_review'] = pd.to_datetime(airbnb_copy['last_review'], format='%Y-%m-%d')\n",
        "airbnb_copy['last_review'].dtype.type"
      ],
      "metadata": {
        "colab": {
          "base_uri": "https://localhost:8080/"
        },
        "id": "59e4kvk4tYbc",
        "outputId": "cbb33859-a6b5-48e9-b52b-40f22e9d2c62"
      },
      "execution_count": 23,
      "outputs": [
        {
          "output_type": "execute_result",
          "data": {
            "text/plain": [
              "numpy.datetime64"
            ]
          },
          "metadata": {},
          "execution_count": 23
        }
      ]
    },
    {
      "cell_type": "markdown",
      "source": [
        "# Dealing with duplicates\n",
        "At times, rows in a data may have duplicate values, this could happen due to mishaps during the data collection process.\n",
        "To determine if there are exist duplicate values in a data, the duplicated().any() function is used and a drop_duplicates() function is used to remove the duplicates."
      ],
      "metadata": {
        "id": "9KOsml0WquSm"
      }
    },
    {
      "cell_type": "code",
      "source": [
        "#Check for duplicates in the airbnb_copy data\n",
        "airbnb_copy.duplicated().any()\n",
        "\n",
        "## if true\n",
        "# airbnb_copy.drop_duplicates()\n",
        "\n",
        "## if you want to drop duplicates at specific column\n",
        "# airbnb_copy.drop('col_name', axis=1, inplace=True).drop_duplicates()"
      ],
      "metadata": {
        "colab": {
          "base_uri": "https://localhost:8080/"
        },
        "id": "guWTFDWVtYe3",
        "outputId": "676f277f-62f8-483f-b5e4-8c0575aec743"
      },
      "execution_count": 24,
      "outputs": [
        {
          "output_type": "execute_result",
          "data": {
            "text/plain": [
              "False"
            ]
          },
          "metadata": {},
          "execution_count": 24
        }
      ]
    },
    {
      "cell_type": "markdown",
      "source": [
        "#Optimizing memory use by changing data types\n",
        "Converting data types from one format to another could help to save memory. The astype(‘dtype’) function is used to convert data type from one format to another. "
      ],
      "metadata": {
        "id": "4PvsNErkskvf"
      }
    },
    {
      "cell_type": "code",
      "source": [
        "#View the current data type format of the host_id  column\n",
        "airbnb_df.info()"
      ],
      "metadata": {
        "colab": {
          "base_uri": "https://localhost:8080/"
        },
        "id": "2YJrKWrYtWMW",
        "outputId": "abedf6c1-5f8e-40de-c1fb-8a79703b1220"
      },
      "execution_count": 25,
      "outputs": [
        {
          "output_type": "stream",
          "name": "stdout",
          "text": [
            "<class 'pandas.core.frame.DataFrame'>\n",
            "Int64Index: 48892 entries, 0 to 48894\n",
            "Data columns (total 13 columns):\n",
            " #   Column                          Non-Null Count  Dtype  \n",
            "---  ------                          --------------  -----  \n",
            " 0   listing_name                    48892 non-null  object \n",
            " 1   host_id                         48892 non-null  int64  \n",
            " 2   neighbourhood_group             48892 non-null  object \n",
            " 3   neighbourhood                   48892 non-null  object \n",
            " 4   lat                             48892 non-null  float64\n",
            " 5   long                            48892 non-null  float64\n",
            " 6   room_type                       48892 non-null  object \n",
            " 7   price                           48892 non-null  float64\n",
            " 8   minimum_nights                  48892 non-null  int64  \n",
            " 9   number_of_reviews               48892 non-null  int64  \n",
            " 10  reviews_per_month               48892 non-null  float64\n",
            " 11  calculated_host_listings_count  48892 non-null  int64  \n",
            " 12  availability_365                48892 non-null  int64  \n",
            "dtypes: float64(4), int64(5), object(4)\n",
            "memory usage: 6.2+ MB\n"
          ]
        }
      ]
    },
    {
      "cell_type": "code",
      "source": [
        "#let's change the host_id column from int64 to int32 data type\n",
        "#Observe that the memory usage has been reduced from 6.5+ to 6.3+ MB\n",
        "airbnb_df['host_id'] = airbnb_df['host_id'].astype('int32')\n",
        "airbnb_df.info()"
      ],
      "metadata": {
        "colab": {
          "base_uri": "https://localhost:8080/"
        },
        "id": "XF6up2fkt-tS",
        "outputId": "afeb4fca-0c2b-4ae5-a88b-aca05fd578df"
      },
      "execution_count": 26,
      "outputs": [
        {
          "output_type": "stream",
          "name": "stdout",
          "text": [
            "<class 'pandas.core.frame.DataFrame'>\n",
            "Int64Index: 48892 entries, 0 to 48894\n",
            "Data columns (total 13 columns):\n",
            " #   Column                          Non-Null Count  Dtype  \n",
            "---  ------                          --------------  -----  \n",
            " 0   listing_name                    48892 non-null  object \n",
            " 1   host_id                         48892 non-null  int32  \n",
            " 2   neighbourhood_group             48892 non-null  object \n",
            " 3   neighbourhood                   48892 non-null  object \n",
            " 4   lat                             48892 non-null  float64\n",
            " 5   long                            48892 non-null  float64\n",
            " 6   room_type                       48892 non-null  object \n",
            " 7   price                           48892 non-null  float64\n",
            " 8   minimum_nights                  48892 non-null  int64  \n",
            " 9   number_of_reviews               48892 non-null  int64  \n",
            " 10  reviews_per_month               48892 non-null  float64\n",
            " 11  calculated_host_listings_count  48892 non-null  int64  \n",
            " 12  availability_365                48892 non-null  int64  \n",
            "dtypes: float64(4), int32(1), int64(4), object(4)\n",
            "memory usage: 6.0+ MB\n"
          ]
        }
      ]
    },
    {
      "cell_type": "markdown",
      "source": [
        "#Dealing with Outliers in datasets\n",
        "Outliers are values in a dataset that vary greatly from others. They are either greatly larger or significantly smaller that other values. Outliers may signify variabilities in experimental measurements, errors, or a novelty. In a real-world example, the average height of a giraffe is about 16 feet tall. However, there have been recent discoveries of two giraffes that stand at 9 feet and 8.5 feet, respectively. These two giraffes would be considered outliers in comparison to the general giraffe population. \n",
        "\n",
        "Outliers can induce anomalities in predictions from models trained with data that contains them. They may induce negative bias or are actually what is precisely being predicted or searched for.\n",
        "\n",
        "The describe() function is used to detect uutliers by examining such values like maximum and mean values."
      ],
      "metadata": {
        "id": "fbZ6StWOvmFS"
      }
    },
    {
      "cell_type": "code",
      "source": [
        "#Describe the price column of the airbnb_df \n",
        "airbnb_df['price'].describe()"
      ],
      "metadata": {
        "colab": {
          "base_uri": "https://localhost:8080/"
        },
        "id": "fgUnmRQqt-yv",
        "outputId": "de4f4ff7-01e5-4052-fa71-ec3f5748c452"
      },
      "execution_count": 27,
      "outputs": [
        {
          "output_type": "execute_result",
          "data": {
            "text/plain": [
              "count    48892.000000\n",
              "mean       152.714023\n",
              "std        240.156106\n",
              "min          0.000000\n",
              "25%         69.000000\n",
              "50%        106.000000\n",
              "75%        175.000000\n",
              "max      10000.000000\n",
              "Name: price, dtype: float64"
            ]
          },
          "metadata": {},
          "execution_count": 27
        }
      ]
    },
    {
      "cell_type": "code",
      "source": [
        "#A histogram plot can also be used to examine a given data for outliers \n",
        "#As can be observed from the plot below, most of the data are within 0 to 5000 range\n",
        "plt.figure(figsize=(10, 6))\n",
        "airbnb_df['price'].hist(bins=100)"
      ],
      "metadata": {
        "colab": {
          "base_uri": "https://localhost:8080/",
          "height": 388
        },
        "id": "tUz_cDp7tWQL",
        "outputId": "82aa0a85-9049-40b8-ad13-78dbddaa4f4f"
      },
      "execution_count": 28,
      "outputs": [
        {
          "output_type": "execute_result",
          "data": {
            "text/plain": [
              "<matplotlib.axes._subplots.AxesSubplot at 0x7f153a12b210>"
            ]
          },
          "metadata": {},
          "execution_count": 28
        },
        {
          "output_type": "display_data",
          "data": {
            "text/plain": [
              "<Figure size 720x432 with 1 Axes>"
            ],
            "image/png": "[encoded data removed]"
          },
          "metadata": {
            "needs_background": "light"
          }
        }
      ]
    },
    {
      "cell_type": "markdown",
      "source": [
        "A boxplot can also be used to detect outliers in a data.\n",
        "As can be ovserved in the plot below, the price column posses multiple data points that can be termed outliers (data points that are above the maximum values in the box)."
      ],
      "metadata": {
        "id": "_KWaZnmCzjHX"
      }
    },
    {
      "cell_type": "code",
      "source": [
        "plt.figure(figsize=(10, 6))\n",
        "airbnb_df.boxplot(column=['price'])"
      ],
      "metadata": {
        "colab": {
          "base_uri": "https://localhost:8080/",
          "height": 388
        },
        "id": "3_H4368WtWUq",
        "outputId": "711f9bdf-a2e4-4cc0-89f2-783842ddecf7"
      },
      "execution_count": 29,
      "outputs": [
        {
          "output_type": "execute_result",
          "data": {
            "text/plain": [
              "<matplotlib.axes._subplots.AxesSubplot at 0x7f1539f45690>"
            ]
          },
          "metadata": {},
          "execution_count": 29
        },
        {
          "output_type": "display_data",
          "data": {
            "text/plain": [
              "<Figure size 720x432 with 1 Axes>"
            ],
            "image/png": "[encoded data removed]"
          },
          "metadata": {
            "needs_background": "light"
          }
        }
      ]
    },
    {
      "cell_type": "code",
      "source": [
        "#observing the neighbourhood_group column for outliers using a bar plot\n",
        "plt.figure(figsize=(10, 6))\n",
        "airbnb_df['neighbourhood_group'].value_counts().plot.bar()"
      ],
      "metadata": {
        "colab": {
          "base_uri": "https://localhost:8080/",
          "height": 443
        },
        "id": "zsRky8sK1PiY",
        "outputId": "f3208435-e077-4e2f-b814-d0cba7ab5319"
      },
      "execution_count": 30,
      "outputs": [
        {
          "output_type": "execute_result",
          "data": {
            "text/plain": [
              "<matplotlib.axes._subplots.AxesSubplot at 0x7f1539d28590>"
            ]
          },
          "metadata": {},
          "execution_count": 30
        },
        {
          "output_type": "display_data",
          "data": {
            "text/plain": [
              "<Figure size 720x432 with 1 Axes>"
            ],
            "image/png": "[encoded data removed]"
          },
          "metadata": {
            "needs_background": "light"
          }
        }
      ]
    },
    {
      "cell_type": "markdown",
      "source": [
        "Statistical methods such as standard deviation and Interquartile range can be used to categorize numerical values as outliers "
      ],
      "metadata": {
        "id": "dR06QIFL1y60"
      }
    },
    {
      "cell_type": "markdown",
      "source": [
        "# Conclusion\n",
        "Documenting all data cleaning activities including the tools, functions and approaches used could assist others to understand the processes undertaken to obtain the final clean data and could form the organization's culture or process in tackling dirty data.\n",
        "\n",
        "# References\n",
        "https://elitedatascience.com/data-cleaning\n",
        "\n",
        "https://www.tableau.com/learn/articles/what-is-data-cleaning"
      ],
      "metadata": {
        "id": "hvjthrF22rML"
      }
    }
  ]
}